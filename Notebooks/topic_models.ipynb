{
 "cells": [
  {
   "cell_type": "code",
   "execution_count": null,
   "metadata": {},
   "outputs": [],
   "source": [
    "import sys\n",
    "sys.path.insert(0, 'TopicModels')\n",
    "\n",
    "from sklearn.decomposition import NMF, LatentDirichletAllocation\n",
    "import pyLDAvis\n",
    "import pyLDAvis.sklearn \n",
    "pyLDAvis.enable_notebook()\n",
    "import pickle \n",
    "\n",
    "x = pickle.load(open(\"lda_model.p\",\"rb\"))\n",
    "lda, tf, tf_vectorizer= x[0], x[1], x[2]\n",
    "lda.fit(tf)\n",
    "\n",
    "pyLDAvis.sklearn.prepare(lda, tf, tf_vectorizer)"
   ]
  }
 ],
 "metadata": {},
 "nbformat": 4,
 "nbformat_minor": 2
}
